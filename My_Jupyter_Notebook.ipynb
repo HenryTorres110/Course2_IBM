{
  "metadata": {
    "kernelspec": {
      "name": "python",
      "display_name": "Pyolite",
      "language": "python"
    },
    "language_info": {
      "codemirror_mode": {
        "name": "python",
        "version": 3
      },
      "file_extension": ".py",
      "mimetype": "text/x-python",
      "name": "python",
      "nbconvert_exporter": "python",
      "pygments_lexer": "ipython3",
      "version": "3.8"
    }
  },
  "nbformat_minor": 4,
  "nbformat": 4,
  "cells": [
    {
      "cell_type": "markdown",
      "source": "<center>\n    <img src=\"https://s3-api.us-geo.objectstorage.softlayer.net/cf-courses-data/CognitiveClass/Logos/organization_logo/organization_logo.png\" width=\"300\" alt=\"cognitiveclass.ai logo\"  />\n</center>\n",
      "metadata": {}
    },
    {
      "cell_type": "markdown",
      "source": "# My Jupyter Notebook on IBM Watson Studio",
      "metadata": {}
    },
    {
      "cell_type": "markdown",
      "source": "**Luis Enrique Torres**",
      "metadata": {}
    },
    {
      "cell_type": "markdown",
      "source": "Data Scientist",
      "metadata": {}
    },
    {
      "cell_type": "markdown",
      "source": "*I´m interest in Data Science because throughout my bachelor´s Degree in Biomedical Engineering I have noticed that there are many things and new technology that we can apply to the area of medicine in order to help others and improve their chances of having a better life*",
      "metadata": {}
    },
    {
      "cell_type": "markdown",
      "source": "### Function that prints \"Hello from Jupyter Notebook\" ",
      "metadata": {}
    },
    {
      "cell_type": "code",
      "source": "def hello(): \n    print(\"Hello from Jupyter Notebook\") \n\nhello()",
      "metadata": {
        "trusted": true
      },
      "execution_count": 1,
      "outputs": [
        {
          "name": "stdout",
          "text": "Hello from Jupyter Notebook\n",
          "output_type": "stream"
        }
      ]
    },
    {
      "cell_type": "markdown",
      "source": "In order to be a great Data Scientist you need: \n\n* Motivation to do so\n* Curiosity in the field \n* Logical Skills \n* Problem solving abilities ",
      "metadata": {}
    },
    {
      "cell_type": "markdown",
      "source": "You can start by: \n\n1. Finding a topic of your interest\n2. Study current problems in that area\n3. Imagine how you could apply your knowledge to solve that particular problem",
      "metadata": {}
    },
    {
      "cell_type": "code",
      "source": "",
      "metadata": {},
      "execution_count": null,
      "outputs": []
    }
  ]
}